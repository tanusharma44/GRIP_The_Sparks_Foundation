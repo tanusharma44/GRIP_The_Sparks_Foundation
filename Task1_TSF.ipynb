{
 "cells": [
  {
   "cell_type": "markdown",
   "id": "9e75b582",
   "metadata": {},
   "source": [
    "**Task1: Prediction using supervised model( Linear regression)**\n",
    "\n",
    "**Author: Tanu Sharma, Data Science and Business Analyst Intern**\n",
    "\n",
    "**Batch: #gripjuly2022**"
   ]
  },
  {
   "cell_type": "markdown",
   "id": "93b31564",
   "metadata": {},
   "source": [
    "**Perform exploratory Data Analysis on dataset \"Students\" to predict the percentage of the marks of the students based on the number of hours they studied.**"
   ]
  },
  {
   "cell_type": "code",
   "execution_count": 26,
   "id": "99052b14",
   "metadata": {},
   "outputs": [],
   "source": [
    "# importing the required liabraries\n",
    "import pandas as pd\n",
    "import numpy as np  \n",
    "import matplotlib.pyplot as plt\n",
    "import seaborn as sns\n",
    "from sklearn.model_selection import train_test_split\n",
    "from sklearn.linear_model import LinearRegression\n",
    "from sklearn.metrics import mean_absolute_error\n",
    "from sklearn import metrics"
   ]
  },
  {
   "cell_type": "code",
   "execution_count": 27,
   "id": "b7be3c20",
   "metadata": {},
   "outputs": [
    {
     "data": {
      "text/html": [
       "<div>\n",
       "<style scoped>\n",
       "    .dataframe tbody tr th:only-of-type {\n",
       "        vertical-align: middle;\n",
       "    }\n",
       "\n",
       "    .dataframe tbody tr th {\n",
       "        vertical-align: top;\n",
       "    }\n",
       "\n",
       "    .dataframe thead th {\n",
       "        text-align: right;\n",
       "    }\n",
       "</style>\n",
       "<table border=\"1\" class=\"dataframe\">\n",
       "  <thead>\n",
       "    <tr style=\"text-align: right;\">\n",
       "      <th></th>\n",
       "      <th>Hours</th>\n",
       "      <th>Scores</th>\n",
       "    </tr>\n",
       "  </thead>\n",
       "  <tbody>\n",
       "    <tr>\n",
       "      <th>0</th>\n",
       "      <td>2.5</td>\n",
       "      <td>21</td>\n",
       "    </tr>\n",
       "    <tr>\n",
       "      <th>1</th>\n",
       "      <td>5.1</td>\n",
       "      <td>47</td>\n",
       "    </tr>\n",
       "    <tr>\n",
       "      <th>2</th>\n",
       "      <td>3.2</td>\n",
       "      <td>27</td>\n",
       "    </tr>\n",
       "    <tr>\n",
       "      <th>3</th>\n",
       "      <td>8.5</td>\n",
       "      <td>75</td>\n",
       "    </tr>\n",
       "    <tr>\n",
       "      <th>4</th>\n",
       "      <td>3.5</td>\n",
       "      <td>30</td>\n",
       "    </tr>\n",
       "    <tr>\n",
       "      <th>5</th>\n",
       "      <td>1.5</td>\n",
       "      <td>20</td>\n",
       "    </tr>\n",
       "    <tr>\n",
       "      <th>6</th>\n",
       "      <td>9.2</td>\n",
       "      <td>88</td>\n",
       "    </tr>\n",
       "    <tr>\n",
       "      <th>7</th>\n",
       "      <td>5.5</td>\n",
       "      <td>60</td>\n",
       "    </tr>\n",
       "    <tr>\n",
       "      <th>8</th>\n",
       "      <td>8.3</td>\n",
       "      <td>81</td>\n",
       "    </tr>\n",
       "    <tr>\n",
       "      <th>9</th>\n",
       "      <td>2.7</td>\n",
       "      <td>25</td>\n",
       "    </tr>\n",
       "  </tbody>\n",
       "</table>\n",
       "</div>"
      ],
      "text/plain": [
       "   Hours  Scores\n",
       "0    2.5      21\n",
       "1    5.1      47\n",
       "2    3.2      27\n",
       "3    8.5      75\n",
       "4    3.5      30\n",
       "5    1.5      20\n",
       "6    9.2      88\n",
       "7    5.5      60\n",
       "8    8.3      81\n",
       "9    2.7      25"
      ]
     },
     "execution_count": 27,
     "metadata": {},
     "output_type": "execute_result"
    }
   ],
   "source": [
    "#Reading the data \n",
    "sdata=pd.read_csv('http://bit.ly/w-data')\n",
    "sdata.head(10)"
   ]
  },
  {
   "cell_type": "code",
   "execution_count": 28,
   "id": "6f963935",
   "metadata": {},
   "outputs": [
    {
     "data": {
      "text/plain": [
       "False"
      ]
     },
     "execution_count": 28,
     "metadata": {},
     "output_type": "execute_result"
    }
   ],
   "source": [
    "#checking whether there is any null value \n",
    "sdata.isnull== True"
   ]
  },
  {
   "cell_type": "markdown",
   "id": "33bd3937",
   "metadata": {},
   "source": [
    "**There is no null value in the dataset**"
   ]
  },
  {
   "cell_type": "code",
   "execution_count": 29,
   "id": "a0ac26d1",
   "metadata": {},
   "outputs": [
    {
     "data": {
      "image/png": "[encoded data removed]",
      "text/plain": [
       "<Figure size 432x288 with 1 Axes>"
      ]
     },
     "metadata": {},
     "output_type": "display_data"
    }
   ],
   "source": [
    "sns.set_style('darkgrid')\n",
    "sns.scatterplot(y=sdata['Scores'], x=sdata['Hours'])\n",
    "plt.title('Marks Vs Study Hours', size=17)\n",
    "plt.xlabel('Hours Studied', size=10)\n",
    "plt.ylabel('Marks percentage',size=10)\n",
    "plt.show()"
   ]
  },
  {
   "cell_type": "markdown",
   "id": "32b64abf",
   "metadata": {},
   "source": [
    "**From the above scatter plot, we can clearly see that there is a positive correlation between the hours of study and the marks percentage**"
   ]
  },
  {
   "cell_type": "code",
   "execution_count": 30,
   "id": "88b4b366",
   "metadata": {},
   "outputs": [
    {
     "data": {
      "image/png": "[encoded data removed]",
      "text/plain": [
       "<Figure size 432x288 with 1 Axes>"
      ]
     },
     "metadata": {},
     "output_type": "display_data"
    }
   ],
   "source": [
    "sns.regplot(x=sdata['Hours'],y=sdata['Scores'])\n",
    "plt.title('Regression Plot', size=20)\n",
    "plt.xlabel('Hours Studied',size=15)\n",
    "plt.ylabel('Marks Percentage',size=15)\n",
    "plt.show()"
   ]
  },
  {
   "cell_type": "markdown",
   "id": "467166cc",
   "metadata": {},
   "source": [
    "**This graph depicts that the hours studied and marks percentage is positively correlated** "
   ]
  },
  {
   "cell_type": "markdown",
   "id": "8b0ed767",
   "metadata": {},
   "source": [
    "**Preparing the Data**"
   ]
  },
  {
   "cell_type": "markdown",
   "id": "5c999792",
   "metadata": {},
   "source": [
    "**1) Splitting the Data** "
   ]
  },
  {
   "cell_type": "code",
   "execution_count": 31,
   "id": "8f466d4d",
   "metadata": {},
   "outputs": [],
   "source": [
    "#Defining x and y from the Data\n",
    "X = sdata.iloc[:, :-1].values  \n",
    "Y = sdata.iloc[:, 1].values "
   ]
  },
  {
   "cell_type": "code",
   "execution_count": 32,
   "id": "add58a29",
   "metadata": {},
   "outputs": [],
   "source": [
    "#splitting the data in two \n",
    "train_X,test_X, train_Y,test_Y = train_test_split(X,Y,test_size=0.2, random_state=0) "
   ]
  },
  {
   "cell_type": "markdown",
   "id": "960d71de",
   "metadata": {},
   "source": [
    "**2)Fitting the Data into the model**"
   ]
  },
  {
   "cell_type": "code",
   "execution_count": 33,
   "id": "e0b80315",
   "metadata": {},
   "outputs": [
    {
     "name": "stdout",
     "output_type": "stream",
     "text": [
      "------------Training Complete--------------\n"
     ]
    }
   ],
   "source": [
    "regression=LinearRegression()\n",
    "regression.fit(train_X,train_Y)\n",
    "print(\"------------Training Complete--------------\")"
   ]
  },
  {
   "cell_type": "markdown",
   "id": "7503fc02",
   "metadata": {},
   "source": [
    "**Predicting the percentage of marks**"
   ]
  },
  {
   "cell_type": "code",
   "execution_count": 34,
   "id": "ed593003",
   "metadata": {},
   "outputs": [
    {
     "data": {
      "text/html": [
       "<div>\n",
       "<style scoped>\n",
       "    .dataframe tbody tr th:only-of-type {\n",
       "        vertical-align: middle;\n",
       "    }\n",
       "\n",
       "    .dataframe tbody tr th {\n",
       "        vertical-align: top;\n",
       "    }\n",
       "\n",
       "    .dataframe thead th {\n",
       "        text-align: right;\n",
       "    }\n",
       "</style>\n",
       "<table border=\"1\" class=\"dataframe\">\n",
       "  <thead>\n",
       "    <tr style=\"text-align: right;\">\n",
       "      <th></th>\n",
       "      <th>Hours</th>\n",
       "      <th>Predicted Marks</th>\n",
       "    </tr>\n",
       "  </thead>\n",
       "  <tbody>\n",
       "    <tr>\n",
       "      <th>0</th>\n",
       "      <td>1.5</td>\n",
       "      <td>16.884145</td>\n",
       "    </tr>\n",
       "    <tr>\n",
       "      <th>1</th>\n",
       "      <td>3.2</td>\n",
       "      <td>33.732261</td>\n",
       "    </tr>\n",
       "    <tr>\n",
       "      <th>2</th>\n",
       "      <td>7.4</td>\n",
       "      <td>75.357018</td>\n",
       "    </tr>\n",
       "    <tr>\n",
       "      <th>3</th>\n",
       "      <td>2.5</td>\n",
       "      <td>26.794801</td>\n",
       "    </tr>\n",
       "    <tr>\n",
       "      <th>4</th>\n",
       "      <td>5.9</td>\n",
       "      <td>60.491033</td>\n",
       "    </tr>\n",
       "  </tbody>\n",
       "</table>\n",
       "</div>"
      ],
      "text/plain": [
       "   Hours  Predicted Marks\n",
       "0    1.5        16.884145\n",
       "1    3.2        33.732261\n",
       "2    7.4        75.357018\n",
       "3    2.5        26.794801\n",
       "4    5.9        60.491033"
      ]
     },
     "execution_count": 34,
     "metadata": {},
     "output_type": "execute_result"
    }
   ],
   "source": [
    "pred_y=regression.predict(test_X)\n",
    "prediction= pd.DataFrame({'Hours':[i[0] for i in test_X],'Predicted Marks':[k for k in pred_y]})\n",
    "prediction"
   ]
  },
  {
   "cell_type": "code",
   "execution_count": 35,
   "id": "7d55457a",
   "metadata": {},
   "outputs": [
    {
     "name": "stdout",
     "output_type": "stream",
     "text": [
      "[20 27 69 30 62]\n"
     ]
    }
   ],
   "source": [
    "print(test_Y)"
   ]
  },
  {
   "cell_type": "markdown",
   "id": "baf0f38c",
   "metadata": {},
   "source": [
    "**Comapring the Data with the predicted marks**"
   ]
  },
  {
   "cell_type": "code",
   "execution_count": 36,
   "id": "5cbe2cba",
   "metadata": {},
   "outputs": [
    {
     "data": {
      "text/html": [
       "<div>\n",
       "<style scoped>\n",
       "    .dataframe tbody tr th:only-of-type {\n",
       "        vertical-align: middle;\n",
       "    }\n",
       "\n",
       "    .dataframe tbody tr th {\n",
       "        vertical-align: top;\n",
       "    }\n",
       "\n",
       "    .dataframe thead th {\n",
       "        text-align: right;\n",
       "    }\n",
       "</style>\n",
       "<table border=\"1\" class=\"dataframe\">\n",
       "  <thead>\n",
       "    <tr style=\"text-align: right;\">\n",
       "      <th></th>\n",
       "      <th>Actual Marks</th>\n",
       "      <th>Predicted Marks</th>\n",
       "    </tr>\n",
       "  </thead>\n",
       "  <tbody>\n",
       "    <tr>\n",
       "      <th>0</th>\n",
       "      <td>20</td>\n",
       "      <td>16.884145</td>\n",
       "    </tr>\n",
       "    <tr>\n",
       "      <th>1</th>\n",
       "      <td>27</td>\n",
       "      <td>33.732261</td>\n",
       "    </tr>\n",
       "    <tr>\n",
       "      <th>2</th>\n",
       "      <td>69</td>\n",
       "      <td>75.357018</td>\n",
       "    </tr>\n",
       "    <tr>\n",
       "      <th>3</th>\n",
       "      <td>30</td>\n",
       "      <td>26.794801</td>\n",
       "    </tr>\n",
       "    <tr>\n",
       "      <th>4</th>\n",
       "      <td>62</td>\n",
       "      <td>60.491033</td>\n",
       "    </tr>\n",
       "  </tbody>\n",
       "</table>\n",
       "</div>"
      ],
      "text/plain": [
       "   Actual Marks  Predicted Marks\n",
       "0            20        16.884145\n",
       "1            27        33.732261\n",
       "2            69        75.357018\n",
       "3            30        26.794801\n",
       "4            62        60.491033"
      ]
     },
     "execution_count": 36,
     "metadata": {},
     "output_type": "execute_result"
    }
   ],
   "source": [
    "scores_comparing=pd.DataFrame({'Actual Marks':test_Y,'Predicted Marks': pred_y})\n",
    "scores_comparing"
   ]
  },
  {
   "cell_type": "markdown",
   "id": "e261f8f4",
   "metadata": {},
   "source": [
    "**Visually comparing the Predicted Marks with Actual Marks**"
   ]
  },
  {
   "cell_type": "code",
   "execution_count": 37,
   "id": "b4665662",
   "metadata": {},
   "outputs": [
    {
     "data": {
      "image/png": "[encoded data removed]",
      "text/plain": [
       "<Figure size 432x288 with 1 Axes>"
      ]
     },
     "metadata": {},
     "output_type": "display_data"
    }
   ],
   "source": [
    "plt.scatter(x=test_X,y=test_Y,color=\"red\")\n",
    "plt.plot(test_X,pred_y,color=\"black\")\n",
    "plt.title('Actual vs Predicted')\n",
    "plt.xlabel('Hours Studied')\n",
    "plt.ylabel('Marks Percentage')\n",
    "plt.show()"
   ]
  },
  {
   "cell_type": "markdown",
   "id": "93f77898",
   "metadata": {},
   "source": [
    "**Evaluating the Method**"
   ]
  },
  {
   "cell_type": "code",
   "execution_count": 38,
   "id": "a04b8d18",
   "metadata": {},
   "outputs": [
    {
     "name": "stdout",
     "output_type": "stream",
     "text": [
      "Mean absolute error:  4.183859899002975\n"
     ]
    }
   ],
   "source": [
    "#Calculating the accuracy by mean absolute model\n",
    "print('Mean absolute error: ',mean_absolute_error(test_Y,pred_y))"
   ]
  },
  {
   "cell_type": "markdown",
   "id": "2ce98da4",
   "metadata": {},
   "source": [
    "**The small figure shows that the chances of error or wrong forecasting through the model are less.**"
   ]
  },
  {
   "cell_type": "markdown",
   "id": "84a8b72c",
   "metadata": {},
   "source": [
    "**What will be the predicted score of a student if he/she studies for 9.25hrs/day?**"
   ]
  },
  {
   "cell_type": "code",
   "execution_count": 39,
   "id": "ba290daf",
   "metadata": {},
   "outputs": [
    {
     "name": "stdout",
     "output_type": "stream",
     "text": [
      "Score=93.692\n"
     ]
    }
   ],
   "source": [
    "hours=[9.25]\n",
    "sol=regression.predict([hours])\n",
    "print('Score={}'.format(round(sol[0],3)))"
   ]
  },
  {
   "cell_type": "markdown",
   "id": "b2d821d9",
   "metadata": {},
   "source": [
    "**According to the regression model if a student studies 9.25 hrs/day he/she is likely to score 93.692 marks**"
   ]
  },
  {
   "cell_type": "code",
   "execution_count": null,
   "id": "fa19c017",
   "metadata": {},
   "outputs": [],
   "source": []
  }
 ],
 "metadata": {
  "kernelspec": {
   "display_name": "Python 3 (ipykernel)",
   "language": "python",
   "name": "python3"
  },
  "language_info": {
   "codemirror_mode": {
    "name": "ipython",
    "version": 3
   },
   "file_extension": ".py",
   "mimetype": "text/x-python",
   "name": "python",
   "nbconvert_exporter": "python",
   "pygments_lexer": "ipython3",
   "version": "3.9.7"
  }
 },
 "nbformat": 4,
 "nbformat_minor": 5
}
